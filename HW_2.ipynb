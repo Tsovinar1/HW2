{
  "nbformat": 4,
  "nbformat_minor": 0,
  "metadata": {
    "colab": {
      "name": "HW 2.ipynb",
      "provenance": [],
      "collapsed_sections": []
    },
    "kernelspec": {
      "name": "python3",
      "display_name": "Python 3"
    }
  },
  "cells": [
    {
      "cell_type": "markdown",
      "metadata": {
        "id": "VE-Tbz8Cy7rk"
      },
      "source": [
        "<center>\r\n",
        "\r\n",
        "##Python\r\n",
        "\r\n",
        "#Homework 2\r\n",
        "</center>"
      ]
    },
    {
      "cell_type": "markdown",
      "metadata": {
        "id": "yPx3GIdtzeWp"
      },
      "source": [
        "### **Problem 1**"
      ]
    },
    {
      "cell_type": "markdown",
      "metadata": {
        "id": "x3v4xSayzsP1"
      },
      "source": [
        "Calculate the values of the Expression\r\n",
        "$$\r\n",
        "\\sqrt{2^{10}+3^{10}}\r\n",
        "$$"
      ]
    },
    {
      "cell_type": "code",
      "metadata": {
        "colab": {
          "base_uri": "https://localhost:8080/"
        },
        "id": "hIaeZo4QzdJU",
        "outputId": "eb0785bc-941e-4924-86bf-507d0f936ee2"
      },
      "source": [
        "from math import sqrt\r\n",
        "sqrt(2**10+3**10)"
      ],
      "execution_count": null,
      "outputs": [
        {
          "output_type": "execute_result",
          "data": {
            "text/plain": [
              "245.0979396078229"
            ]
          },
          "metadata": {
            "tags": []
          },
          "execution_count": 1
        }
      ]
    },
    {
      "cell_type": "markdown",
      "metadata": {
        "id": "zdUVQjep1m4H"
      },
      "source": [
        "### **Problem 2**"
      ]
    },
    {
      "cell_type": "markdown",
      "metadata": {
        "id": "rsfqo_5pyXbK"
      },
      "source": [
        "Define the List $x$ with elements\n",
        "$$\n",
        "1,1,2,3,2,3,1,1,2,3,4,1\n",
        "$$"
      ]
    },
    {
      "cell_type": "code",
      "metadata": {
        "colab": {
          "base_uri": "https://localhost:8080/"
        },
        "id": "5iL8BGm416Lv",
        "outputId": "ce4bdf1b-cc88-4261-dc9e-1f6710c11e8f"
      },
      "source": [
        "x=[1,1,2,3,2,3,1,1,2,3,4,1]\r\n",
        "x"
      ],
      "execution_count": null,
      "outputs": [
        {
          "output_type": "execute_result",
          "data": {
            "text/plain": [
              "[1, 1, 2, 3, 2, 3, 1, 1, 2, 3, 4, 1]"
            ]
          },
          "metadata": {
            "tags": []
          },
          "execution_count": 4
        }
      ]
    },
    {
      "cell_type": "markdown",
      "metadata": {
        "id": "_7sXlQAPyXbL"
      },
      "source": [
        "- Get the length of $x$ in the variable $l$"
      ]
    },
    {
      "cell_type": "code",
      "metadata": {
        "colab": {
          "base_uri": "https://localhost:8080/"
        },
        "id": "yax0JX1Y2Qjk",
        "outputId": "8b652116-8915-468a-eeda-1301f6b659f0"
      },
      "source": [
        "l=len(x)\r\n",
        "l"
      ],
      "execution_count": null,
      "outputs": [
        {
          "output_type": "execute_result",
          "data": {
            "text/plain": [
              "12"
            ]
          },
          "metadata": {
            "tags": []
          },
          "execution_count": 6
        }
      ]
    },
    {
      "cell_type": "markdown",
      "metadata": {
        "id": "C-5ZX5oFyXbM"
      },
      "source": [
        "- Change the last element of $x$ by 5"
      ]
    },
    {
      "cell_type": "code",
      "metadata": {
        "colab": {
          "base_uri": "https://localhost:8080/"
        },
        "id": "s8thyQwj2dhe",
        "outputId": "89981dd1-f864-453e-fa69-edd29e7f1e88"
      },
      "source": [
        "x[11]=5\r\n",
        "x"
      ],
      "execution_count": null,
      "outputs": [
        {
          "output_type": "execute_result",
          "data": {
            "text/plain": [
              "[1, 1, 2, 3, 2, 3, 1, 1, 2, 3, 4, 5]"
            ]
          },
          "metadata": {
            "tags": []
          },
          "execution_count": 7
        }
      ]
    },
    {
      "cell_type": "markdown",
      "metadata": {
        "id": "rwjYzaGyyXbN"
      },
      "source": [
        "- Add elements 5,6,7,8,9,10 at the end of the list $x$"
      ]
    },
    {
      "cell_type": "code",
      "metadata": {
        "colab": {
          "base_uri": "https://localhost:8080/"
        },
        "id": "tSqqHd1M2pHJ",
        "outputId": "efd595d5-b86e-4130-98f9-b7f6a67bd8db"
      },
      "source": [
        "x.extend([5,6,7,8,9,10])\r\n",
        "x"
      ],
      "execution_count": null,
      "outputs": [
        {
          "output_type": "execute_result",
          "data": {
            "text/plain": [
              "[1, 1, 2, 3, 2, 3, 1, 1, 2, 3, 4, 5, 5, 6, 7, 8, 9, 10]"
            ]
          },
          "metadata": {
            "tags": []
          },
          "execution_count": 9
        }
      ]
    },
    {
      "cell_type": "markdown",
      "metadata": {
        "id": "npyASRAyyXbO"
      },
      "source": [
        "- Extract all odd-indexed elements of $x$ in the list $y$, and all even-indexed elements of $x$ into the list $z$"
      ]
    },
    {
      "cell_type": "code",
      "metadata": {
        "colab": {
          "base_uri": "https://localhost:8080/"
        },
        "id": "uaImySi33ljl",
        "outputId": "9b00e459-7c03-4c74-8ad7-00550a488911"
      },
      "source": [
        "y=[]\r\n",
        "z=[]\r\n",
        "for i in range(1, len(x), 2): \r\n",
        "        y.append(x[i]) \r\n",
        "        z.append(x[i-1]) \r\n",
        "\r\n",
        "print(y)\r\n",
        "print(z)"
      ],
      "execution_count": null,
      "outputs": [
        {
          "output_type": "stream",
          "text": [
            "[1, 3, 3, 1, 3, 5, 6, 8, 10]\n",
            "[1, 2, 2, 1, 2, 4, 5, 7, 9]\n"
          ],
          "name": "stdout"
        }
      ]
    },
    {
      "cell_type": "markdown",
      "metadata": {
        "id": "X6xhOxPjyXbP"
      },
      "source": [
        "- Get all even elements of $x$ in the list $y1$ and all odd elements of $x$ in the list $z1$"
      ]
    },
    {
      "cell_type": "code",
      "metadata": {
        "colab": {
          "base_uri": "https://localhost:8080/"
        },
        "id": "aw5ZDB9GTyVh",
        "outputId": "4de5dbef-6f92-48c7-dd5a-b1c27815406d"
      },
      "source": [
        "y1=[]\r\n",
        "z1=[]\r\n",
        "for i in range(0, len(x)): \r\n",
        "    if x[i]%2==0: \r\n",
        "        y1.append(x[i]) \r\n",
        "    else: \r\n",
        "        z1.append(x[i]) \r\n",
        "\r\n",
        "print(y1)\r\n",
        "print(z1)"
      ],
      "execution_count": null,
      "outputs": [
        {
          "output_type": "stream",
          "text": [
            "[2, 2, 2, 4, 6, 8, 10]\n",
            "[1, 1, 3, 3, 1, 1, 3, 5, 5, 7, 9]\n"
          ],
          "name": "stdout"
        }
      ]
    },
    {
      "cell_type": "markdown",
      "metadata": {
        "id": "M7rqQCuTyXbP"
      },
      "source": [
        "- Replace all odd elements of $x$ by 0"
      ]
    },
    {
      "cell_type": "code",
      "metadata": {
        "colab": {
          "base_uri": "https://localhost:8080/"
        },
        "id": "hcAWgAtKW6CW",
        "outputId": "9ab0ecc2-8d34-44a4-ad46-78c9812d24f7"
      },
      "source": [
        "for i in range(0, len(x)): \r\n",
        "  if x[i]%2==1:\r\n",
        "    x[i]=0\r\n",
        "x"
      ],
      "execution_count": null,
      "outputs": [
        {
          "output_type": "execute_result",
          "data": {
            "text/plain": [
              "[0, 0, 2, 0, 2, 0, 0, 0, 2, 0, 4, 0, 0, 6, 0, 8, 0, 10]"
            ]
          },
          "metadata": {
            "tags": []
          },
          "execution_count": 43
        }
      ]
    },
    {
      "cell_type": "markdown",
      "metadata": {
        "id": "La7GdlLJyXbQ"
      },
      "source": [
        "- Find the maximal and minimal elements of $x$, without using the `max` and `min` functions"
      ]
    },
    {
      "cell_type": "code",
      "metadata": {
        "colab": {
          "base_uri": "https://localhost:8080/"
        },
        "id": "Z_Ukat5Fa8FF",
        "outputId": "a138be57-1d3d-469d-e782-ee1140b8a2a1"
      },
      "source": [
        "min=x[0]\r\n",
        "max=x[0]\r\n",
        "for i in range(1, len(x)):\r\n",
        "  \r\n",
        "  if(x[i]<min):\r\n",
        "    min=x[i]\r\n",
        "  if(x[i]>max):\r\n",
        "    max=x[i]\r\n",
        "\r\n",
        "print(max)\r\n",
        "print(min)"
      ],
      "execution_count": null,
      "outputs": [
        {
          "output_type": "stream",
          "text": [
            "10\n",
            "0\n"
          ],
          "name": "stdout"
        }
      ]
    },
    {
      "cell_type": "markdown",
      "metadata": {
        "id": "vm54sSMbyXbR"
      },
      "source": [
        "- Find the sum of the elements of $x$"
      ]
    },
    {
      "cell_type": "code",
      "metadata": {
        "colab": {
          "base_uri": "https://localhost:8080/"
        },
        "id": "N48AWRjNeOCD",
        "outputId": "748d3e32-b17f-4cb3-d437-8ed5574b95fc"
      },
      "source": [
        "s=0\r\n",
        "for i in range(0, len(x)):\r\n",
        "  s+=x[i]\r\n",
        "s"
      ],
      "execution_count": null,
      "outputs": [
        {
          "output_type": "execute_result",
          "data": {
            "text/plain": [
              "34"
            ]
          },
          "metadata": {
            "tags": []
          },
          "execution_count": 59
        }
      ]
    },
    {
      "cell_type": "markdown",
      "metadata": {
        "id": "F5i51zJRyXbS"
      },
      "source": [
        "- Construct a list $I$ consisting of all reciprocals of the elements of $x$"
      ]
    },
    {
      "cell_type": "markdown",
      "metadata": {
        "id": "lomXPqkqi2Jo"
      },
      "source": [
        "Մեր $x$ list-ը ընթացքում փոխվել էր (այժմ՝ `x=[0, 0, 2, 0, 2, 0, 0, 0, 2, 0, 4, 0, 0, 6, 0, 8, 0, 10]`):\r\n",
        "\r\n",
        "Նկատենք, սակայն, որ սրանում կան տարրեր (0-ները), որոնք հակադարձելի չեն: \r\n",
        "\r\n",
        "###Միգուցե պետք է դիտարկել սկզբնական $x$-ը...(?)\r\n",
        "Ամեն դեպքում ստորև այդպես եմ անում:\r\n",
        "\r\n"
      ]
    },
    {
      "cell_type": "code",
      "metadata": {
        "colab": {
          "base_uri": "https://localhost:8080/"
        },
        "id": "UCul5W9jf8cT",
        "outputId": "2be3b61f-7a6e-4835-9732-635f9f026932"
      },
      "source": [
        "x=[1,1,2,3,2,3,1,1,2,3,4,1]\r\n",
        "for i in range(0, len(x)):\r\n",
        "  x[i]=(1/x[i])\r\n",
        "\r\n",
        "print(x)"
      ],
      "execution_count": null,
      "outputs": [
        {
          "output_type": "stream",
          "text": [
            "[1.0, 1.0, 0.5, 0.3333333333333333, 0.5, 0.3333333333333333, 1.0, 1.0, 0.5, 0.3333333333333333, 0.25, 1.0]\n"
          ],
          "name": "stdout"
        }
      ]
    },
    {
      "cell_type": "markdown",
      "metadata": {
        "id": "7GIKm5XgyXbS"
      },
      "source": [
        "- Find the value of the sum\n",
        "$$\n",
        "\\sum_{k=1}^{10} \\frac{1}{3^k},\n",
        "$$\n",
        "and calculate its distance from the value of \n",
        "$$\n",
        "\\sum_{k=1}^{\\infty} \\frac{1}{3^k},\n",
        "$$"
      ]
    },
    {
      "cell_type": "code",
      "metadata": {
        "colab": {
          "base_uri": "https://localhost:8080/"
        },
        "id": "VKPdOOUam_wH",
        "outputId": "78c4ad59-ef77-4b30-eda0-c9e7eaa7aabb"
      },
      "source": [
        "s=0\r\n",
        "for k in range(1, 10):\r\n",
        "  s+=1/(3**k)\r\n",
        "\r\n",
        "s"
      ],
      "execution_count": null,
      "outputs": [
        {
          "output_type": "execute_result",
          "data": {
            "text/plain": [
              "0.4999745973682873"
            ]
          },
          "metadata": {
            "tags": []
          },
          "execution_count": 127
        }
      ]
    },
    {
      "cell_type": "code",
      "metadata": {
        "colab": {
          "base_uri": "https://localhost:8080/"
        },
        "id": "Gjas9nO4p8Ap",
        "outputId": "092aad0f-b133-4f67-8856-565ead8366b2"
      },
      "source": [
        "'''from math import inf\r\n",
        "s1=0\r\n",
        "for k in range(1, inf):\r\n",
        "  s1+=1/(3**k)\r\n",
        "s1'''\r\n",
        "\r\n",
        "s1=(1/3)/(2/3)\r\n",
        "S=s1-s\r\n",
        "print(S)\r\n"
      ],
      "execution_count": null,
      "outputs": [
        {
          "output_type": "stream",
          "text": [
            "2.540263171268986e-05\n"
          ],
          "name": "stdout"
        }
      ]
    },
    {
      "cell_type": "markdown",
      "metadata": {
        "id": "StOPHHYfyXbT"
      },
      "source": [
        "- Keep, in the list `sec`, second letters of all words in the following sentence:\n",
        "> The longest word in any of the major English language dictionaries is pneumonoultramicroscopicsilicovolcanoconiosis.\n"
      ]
    },
    {
      "cell_type": "code",
      "metadata": {
        "colab": {
          "base_uri": "https://localhost:8080/"
        },
        "id": "4Dp0ULKpxj7k",
        "outputId": "1a03d97d-f100-48ab-c3bd-94f6cda50f8b"
      },
      "source": [
        "sec=[]\r\n",
        "a=[\"The\", \"longest\", \"word\", \"in\", \"any\", \"of\", \"the\", \"major\", \"English\", \"language\", \"dictionaries\", \"is\", \"pneumonoultramicroscopicsilicovolcanoconiosis\"]\r\n",
        "for i in range(0, len(a)):\r\n",
        "  sec.append(a[i][1])\r\n",
        "sec  "
      ],
      "execution_count": null,
      "outputs": [
        {
          "output_type": "execute_result",
          "data": {
            "text/plain": [
              "['h', 'o', 'o', 'n', 'n', 'f', 'h', 'a', 'n', 'a', 'i', 's', 'n']"
            ]
          },
          "metadata": {
            "tags": []
          },
          "execution_count": 92
        }
      ]
    },
    {
      "cell_type": "markdown",
      "metadata": {
        "id": "S_16z4NByXbU"
      },
      "source": [
        "### **Problem 3**"
      ]
    },
    {
      "cell_type": "markdown",
      "metadata": {
        "id": "B1jJ91CUyXbV"
      },
      "source": [
        "The longest word in English is, according to several sources, **Pneumonoultramicroscopicsilicovolcanoconiosis**."
      ]
    },
    {
      "cell_type": "markdown",
      "metadata": {
        "id": "k5JTSFtEyXbV"
      },
      "source": [
        "- Find the number of letters in this word"
      ]
    },
    {
      "cell_type": "code",
      "metadata": {
        "colab": {
          "base_uri": "https://localhost:8080/"
        },
        "id": "6clD6nRT0T1Y",
        "outputId": "b2b2cddf-81de-427c-bba4-18bf7ccfe62c"
      },
      "source": [
        "word='Pneumonoultramicroscopicsilicovolcanoconiosis' #string\r\n",
        "len(word)"
      ],
      "execution_count": null,
      "outputs": [
        {
          "output_type": "execute_result",
          "data": {
            "text/plain": [
              "45"
            ]
          },
          "metadata": {
            "tags": []
          },
          "execution_count": 107
        }
      ]
    },
    {
      "cell_type": "markdown",
      "metadata": {
        "id": "pnfIO01hyXbW"
      },
      "source": [
        "- Find the number of letters \"o\" in this word"
      ]
    },
    {
      "cell_type": "code",
      "metadata": {
        "colab": {
          "base_uri": "https://localhost:8080/"
        },
        "id": "RVaRR5mi44LS",
        "outputId": "9c30678e-428f-4673-d5e3-22fb851710d6"
      },
      "source": [
        "c=0\r\n",
        "for x in word:\r\n",
        "  if x=='o':\r\n",
        "    c+=1\r\n",
        "c   "
      ],
      "execution_count": null,
      "outputs": [
        {
          "output_type": "execute_result",
          "data": {
            "text/plain": [
              "9"
            ]
          },
          "metadata": {
            "tags": []
          },
          "execution_count": 108
        }
      ]
    },
    {
      "cell_type": "markdown",
      "metadata": {
        "id": "3MgU7lc7yXbW"
      },
      "source": [
        "- Find the number of vowels (ձայնավորներ) in this word"
      ]
    },
    {
      "cell_type": "code",
      "metadata": {
        "colab": {
          "base_uri": "https://localhost:8080/"
        },
        "id": "tvv2-tmt5qQj",
        "outputId": "21216793-5fbe-41f4-fd8a-c812a14abf9c"
      },
      "source": [
        "v=0\r\n",
        "vowels='aeiou'\r\n",
        "for x in word:\r\n",
        "  if x in vowels:\r\n",
        "    v+=1\r\n",
        "v   "
      ],
      "execution_count": null,
      "outputs": [
        {
          "output_type": "execute_result",
          "data": {
            "text/plain": [
              "20"
            ]
          },
          "metadata": {
            "tags": []
          },
          "execution_count": 109
        }
      ]
    },
    {
      "cell_type": "markdown",
      "metadata": {
        "id": "wRbcdxnOyXbX"
      },
      "source": [
        "- Find how many different letters are there in this word"
      ]
    },
    {
      "cell_type": "code",
      "metadata": {
        "colab": {
          "base_uri": "https://localhost:8080/"
        },
        "id": "Kf138zQYyp0o",
        "outputId": "b02d4bdd-4620-4278-f91e-987c962183a8"
      },
      "source": [
        "list=[]\r\n",
        "for x in word:\r\n",
        "  if x not in list:\r\n",
        "    list.append(x)\r\n",
        "\r\n",
        "len(list)"
      ],
      "execution_count": null,
      "outputs": [
        {
          "output_type": "execute_result",
          "data": {
            "text/plain": [
              "15"
            ]
          },
          "metadata": {
            "tags": []
          },
          "execution_count": 113
        }
      ]
    }
  ]
}