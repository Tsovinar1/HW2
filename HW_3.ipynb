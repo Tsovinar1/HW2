{
  "nbformat": 4,
  "nbformat_minor": 0,
  "metadata": {
    "colab": {
      "name": "HW 3.ipynb",
      "provenance": [],
      "collapsed_sections": []
    },
    "kernelspec": {
      "name": "python3",
      "display_name": "Python 3"
    }
  },
  "cells": [
    {
      "cell_type": "markdown",
      "metadata": {
        "id": "VE-Tbz8Cy7rk"
      },
      "source": [
        "<center>\r\n",
        "\r\n",
        "##Python\r\n",
        "\r\n",
        "#Homework 3\r\n",
        "</center>"
      ]
    },
    {
      "cell_type": "markdown",
      "metadata": {
        "id": "ndn6E7nHsrWv"
      },
      "source": [
        "### **Problem 1**, Dictionaries"
      ]
    },
    {
      "cell_type": "markdown",
      "metadata": {
        "id": "DLJpipwFsrWx"
      },
      "source": [
        "- Construct a Dictionary **cities_AM** that corresponds to largest 5 Armenian cities their population, say, for Yerevan, the population is 1077.6 (in thousands). You can find some data at [https://armstat.am/file/article/nasel_01.01.2018.pdf](https://armstat.am/file/article/nasel_01.01.2018.pdf)"
      ]
    },
    {
      "cell_type": "code",
      "metadata": {
        "colab": {
          "base_uri": "https://localhost:8080/"
        },
        "id": "oXByyzpQtx3R",
        "outputId": "43740134-86bd-4800-df41-5f0013ee96e4"
      },
      "source": [
        "cities_AM={\"Yerevan\": 1077.6,\r\n",
        "           \"Gyumri\":114.5,\r\n",
        "           \"Vanadzor\":79.3,\r\n",
        "           \"Vagharshapat\":46.4,\r\n",
        "           \"Abovyan\":44.6}\r\n",
        "\r\n",
        "print(cities_AM)           "
      ],
      "execution_count": null,
      "outputs": [
        {
          "output_type": "stream",
          "text": [
            "{'Yerevan': 1077.6, 'Gyumri': 114.5, 'Vanadzor': 79.3, 'Vagharshapat': 46.4, 'Abovyan': 44.6}\n"
          ],
          "name": "stdout"
        }
      ]
    },
    {
      "cell_type": "markdown",
      "metadata": {
        "id": "OxaupRWXsrWy"
      },
      "source": [
        "- Print the names of cities"
      ]
    },
    {
      "cell_type": "code",
      "metadata": {
        "colab": {
          "base_uri": "https://localhost:8080/"
        },
        "id": "F7C3IhiozpV7",
        "outputId": "fe6352cb-77d8-4eb3-e23a-2552c1687bd1"
      },
      "source": [
        "list(cities_AM)"
      ],
      "execution_count": null,
      "outputs": [
        {
          "output_type": "execute_result",
          "data": {
            "text/plain": [
              "['Yerevan', 'Gyumri', 'Vanadzor', 'Vagharshapat', 'Abovyan']"
            ]
          },
          "metadata": {
            "tags": []
          },
          "execution_count": 7
        }
      ]
    },
    {
      "cell_type": "markdown",
      "metadata": {
        "id": "83PtQO0fsrWy"
      },
      "source": [
        "- Print the sum of population in largest 5 Armenian cities"
      ]
    },
    {
      "cell_type": "code",
      "metadata": {
        "colab": {
          "base_uri": "https://localhost:8080/"
        },
        "id": "5zg4cmnT0Bgt",
        "outputId": "534d594c-b425-43a5-83bc-a74b4b143d9e"
      },
      "source": [
        "sum(cities_AM.values())"
      ],
      "execution_count": null,
      "outputs": [
        {
          "output_type": "execute_result",
          "data": {
            "text/plain": [
              "1362.3999999999999"
            ]
          },
          "metadata": {
            "tags": []
          },
          "execution_count": 8
        }
      ]
    },
    {
      "cell_type": "markdown",
      "metadata": {
        "id": "_gIZUWQEsrWz"
      },
      "source": [
        "- Get the name of the second largest (by population) city in Armenia (not by a hand, of course $\\ddot{\\smile}$ )"
      ]
    },
    {
      "cell_type": "code",
      "metadata": {
        "colab": {
          "base_uri": "https://localhost:8080/",
          "height": 35
        },
        "id": "cYdCGF6W1m_y",
        "outputId": "76bc9ee0-bbda-4b4d-a228-7da83d69475b"
      },
      "source": [
        "a=list(cities_AM.values())\r\n",
        "a.sort()\r\n",
        "i=a[len(cities_AM)-2]\r\n",
        "list(cities_AM.keys())[list(cities_AM.values()).index(i)]"
      ],
      "execution_count": null,
      "outputs": [
        {
          "output_type": "execute_result",
          "data": {
            "application/vnd.google.colaboratory.intrinsic+json": {
              "type": "string"
            },
            "text/plain": [
              "'Gyumri'"
            ]
          },
          "metadata": {
            "tags": []
          },
          "execution_count": 29
        }
      ]
    },
    {
      "cell_type": "markdown",
      "metadata": {
        "id": "qIQWsAahsrW0"
      },
      "source": [
        "- Add the 6th city with its population to the dictionary"
      ]
    },
    {
      "cell_type": "code",
      "metadata": {
        "colab": {
          "base_uri": "https://localhost:8080/"
        },
        "id": "s0cEhBVcXXHf",
        "outputId": "b56eb898-7776-473f-b4d5-de120161a99c"
      },
      "source": [
        "cities_AM [\"Kapan\"]=42.5\r\n",
        "cities_AM"
      ],
      "execution_count": null,
      "outputs": [
        {
          "output_type": "execute_result",
          "data": {
            "text/plain": [
              "{'Abovyan': 44.6,\n",
              " 'Gyumri': 114.5,\n",
              " 'Kapan': 42.5,\n",
              " 'Vagharshapat': 46.4,\n",
              " 'Vanadzor': 79.3,\n",
              " 'Yerevan': 1077.6}"
            ]
          },
          "metadata": {
            "tags": []
          },
          "execution_count": 10
        }
      ]
    },
    {
      "cell_type": "markdown",
      "metadata": {
        "id": "jl3FEKEZsrW1"
      },
      "source": [
        "- Find information about the surface areas of cities, and update dictionary to include tuples (population, area) for each city. "
      ]
    },
    {
      "cell_type": "code",
      "metadata": {
        "colab": {
          "base_uri": "https://localhost:8080/"
        },
        "id": "hHIVVLoHZnwW",
        "outputId": "ab1d8ab7-2827-4a7b-f5c3-dfd4c2f1a316"
      },
      "source": [
        "cities_AM={'Abovyan': (44.6, 11),\r\n",
        "          'Gyumri': (114.5, 36.26),\r\n",
        "          'Kapan': (42.5, 36),\r\n",
        "          'Vagharshapat': (46.4, 40),\r\n",
        "          'Vanadzor': (79.3, 25.1),\r\n",
        "          'Yerevan': (1077.6, 227)}\r\n",
        "cities_AM"
      ],
      "execution_count": null,
      "outputs": [
        {
          "output_type": "execute_result",
          "data": {
            "text/plain": [
              "{'Abovyan': (44.6, 11),\n",
              " 'Gyumri': (114.5, 36.26),\n",
              " 'Kapan': (42.5, 36),\n",
              " 'Vagharshapat': (46.4, 40),\n",
              " 'Vanadzor': (79.3, 25.1),\n",
              " 'Yerevan': (1077.6, 227)}"
            ]
          },
          "metadata": {
            "tags": []
          },
          "execution_count": 32
        }
      ]
    },
    {
      "cell_type": "markdown",
      "metadata": {
        "id": "3Q9NjHztsrW2"
      },
      "source": [
        "- Construct a similar dictionary **cities_GE** for Germany 2 largest cities, and create a new Dictionary, with keys \"Armenia\", \"Germany\", and values as the constructed dictionaries"
      ]
    },
    {
      "cell_type": "code",
      "metadata": {
        "colab": {
          "base_uri": "https://localhost:8080/"
        },
        "id": "goYVgo9hjrDJ",
        "outputId": "12327103-ea10-4774-9f12-b7267dbb4cf4"
      },
      "source": [
        "cities_GE={'Berlin': (3769.5, 891.7),\r\n",
        "          'Hamburg': (1787.4, 755.3)}\r\n",
        "cities_GE          "
      ],
      "execution_count": null,
      "outputs": [
        {
          "output_type": "execute_result",
          "data": {
            "text/plain": [
              "{'Berlin': (3769.5, 891.7), 'Hamburg': (1787.4, 755.3)}"
            ]
          },
          "metadata": {
            "tags": []
          },
          "execution_count": 44
        }
      ]
    },
    {
      "cell_type": "code",
      "metadata": {
        "colab": {
          "base_uri": "https://localhost:8080/"
        },
        "id": "iPc-Msc8nvRy",
        "outputId": "34a3018b-9928-419a-aee9-7497e5988ece"
      },
      "source": [
        "New_Dict={'Armenia': cities_AM,\r\n",
        "          'Germany': cities_GE}\r\n",
        "\r\n",
        "New_Dict"
      ],
      "execution_count": null,
      "outputs": [
        {
          "output_type": "execute_result",
          "data": {
            "text/plain": [
              "{'Armenia': {'Abovyan': (44.6, 11),\n",
              "  'Gyumri': (114.5, 36.26),\n",
              "  'Kapan': (42.5, 36),\n",
              "  'Vagharshapat': (46.4, 40),\n",
              "  'Vanadzor': (79.3, 25.1),\n",
              "  'Yerevan': (1077.6, 227)},\n",
              " 'Germany': {'Berlin': (3769.5, 891.7), 'Hamburg': (1787.4, 755.3)}}"
            ]
          },
          "metadata": {
            "tags": []
          },
          "execution_count": 45
        }
      ]
    },
    {
      "cell_type": "markdown",
      "metadata": {
        "id": "qbH4iVxlsrW3"
      },
      "source": [
        "### **Problem 2**, Control flows"
      ]
    },
    {
      "cell_type": "markdown",
      "metadata": {
        "id": "iUNlspiysrW4"
      },
      "source": [
        "- Consider the list `x = [1, -2, 3, 9, 0, 1, 3, 2, -2, -4, 1, -3]` . Construct two lists, `x_neg` and `x_pos` containng, correspondingly, all negative and all positive elements of `x` in the same order. Costruct also lists `ind_neg` and `ind_pos` which will contain the indices of all negative and positive elements of `x`, respectively.\n"
      ]
    },
    {
      "cell_type": "code",
      "metadata": {
        "colab": {
          "base_uri": "https://localhost:8080/"
        },
        "id": "60G9VMoOoUFx",
        "outputId": "155ed71b-7954-4297-87f9-4c09fbbdcfc7"
      },
      "source": [
        "x = [1, -2, 3, 9, 0, 1, 3, 2, -2, -4, 1, -3]\r\n",
        "x_neg=[i for i in x if i<0]\r\n",
        "x_pos=[i for i in x if i>0]\r\n",
        "print(x_neg)\r\n",
        "print(x_pos)"
      ],
      "execution_count": null,
      "outputs": [
        {
          "output_type": "stream",
          "text": [
            "[-2, -2, -4, -3]\n",
            "[1, 3, 9, 1, 3, 2, 1]\n"
          ],
          "name": "stdout"
        }
      ]
    },
    {
      "cell_type": "code",
      "metadata": {
        "colab": {
          "base_uri": "https://localhost:8080/"
        },
        "id": "QFYgSUn3utuG",
        "outputId": "ea12876e-5bcd-4715-82da-d21c27c2695a"
      },
      "source": [
        "x = [1, -2, 3, 9, 0, 1, 3, 2, -2, -4, 1, -3]\r\n",
        "ind_neg=[i for i in range(len(x)) if x[i]<0]\r\n",
        "ind_pos=[i for i in range(len(x)) if x[i]>0]\r\n",
        "print(ind_neg)\r\n",
        "print(ind_pos)"
      ],
      "execution_count": null,
      "outputs": [
        {
          "output_type": "stream",
          "text": [
            "[1, 8, 9, 11]\n",
            "[0, 2, 3, 5, 6, 7, 10]\n"
          ],
          "name": "stdout"
        }
      ]
    },
    {
      "cell_type": "markdown",
      "metadata": {
        "id": "gHKyN4XKsrW5"
      },
      "source": [
        "- Find the sum \n",
        "$$\n",
        "1+ 3+ 5 + ... + 101.\n",
        "$$"
      ]
    },
    {
      "cell_type": "code",
      "metadata": {
        "colab": {
          "base_uri": "https://localhost:8080/"
        },
        "id": "sgeVuNwGfbzX",
        "outputId": "905e8cc2-97a6-40a8-e5b4-8760a6d09303"
      },
      "source": [
        "s=sum(range(1,102,2))\r\n",
        "s"
      ],
      "execution_count": null,
      "outputs": [
        {
          "output_type": "execute_result",
          "data": {
            "text/plain": [
              "2601"
            ]
          },
          "metadata": {
            "tags": []
          },
          "execution_count": 83
        }
      ]
    },
    {
      "cell_type": "markdown",
      "metadata": {
        "id": "gaSorA4NsrW5"
      },
      "source": [
        "- Calculate the sum\n",
        "$$\n",
        "1 +\\frac{1}{2} +3 +\\frac{1}{4}+5 +\\frac{1}{6}+...+99+\\frac{1}{100}.\n",
        "$$"
      ]
    },
    {
      "cell_type": "code",
      "metadata": {
        "colab": {
          "base_uri": "https://localhost:8080/"
        },
        "id": "eraA93MjgMHK",
        "outputId": "5ca66d3e-da10-4702-ff99-6532f2761955"
      },
      "source": [
        "sum(1/i for i in range(2, 101, 2))+sum(i for i in range(1, 100, 2))"
      ],
      "execution_count": null,
      "outputs": [
        {
          "output_type": "execute_result",
          "data": {
            "text/plain": [
              "2502.2496026691647"
            ]
          },
          "metadata": {
            "tags": []
          },
          "execution_count": 89
        }
      ]
    },
    {
      "cell_type": "markdown",
      "metadata": {
        "id": "1hD5PWIesrW6"
      },
      "source": [
        "- Calculate the semifactorial $20!!$, without using any Python built-in factorial calculation functions (see [Wiki](https://en.wikipedia.org/wiki/Double_factorial))"
      ]
    },
    {
      "cell_type": "code",
      "metadata": {
        "colab": {
          "base_uri": "https://localhost:8080/"
        },
        "id": "-SbbtJcNhjQn",
        "outputId": "8d4f01f9-9bc0-49ea-8792-b525992fd1c7"
      },
      "source": [
        "p=1\r\n",
        "for i in range(2, 21, 2):\r\n",
        "  p=p*i\r\n",
        "p"
      ],
      "execution_count": null,
      "outputs": [
        {
          "output_type": "execute_result",
          "data": {
            "text/plain": [
              "3715891200"
            ]
          },
          "metadata": {
            "tags": []
          },
          "execution_count": 91
        }
      ]
    },
    {
      "cell_type": "markdown",
      "metadata": {
        "id": "zYrqUCDxsrXF"
      },
      "source": [
        "- Calculate the sum \n",
        "$$\n",
        "\\sum_{k=0}^{20} \\dfrac{(-1)^k}{k!}\n",
        "$$\n",
        "without using any `factorial` function."
      ]
    },
    {
      "cell_type": "code",
      "metadata": {
        "colab": {
          "base_uri": "https://localhost:8080/"
        },
        "id": "e5vdMcv4kFNe",
        "outputId": "42cbc330-5cd7-47d6-bc7e-299320028fe5"
      },
      "source": [
        "s1=1\r\n",
        "for k in range(1, 21):\r\n",
        "  k_fact=1\r\n",
        "  for i in range(1, k+1):\r\n",
        "    k_fact=k_fact*i\r\n",
        "  s1=s1+((-1)**k/k_fact)\r\n",
        "s1   "
      ],
      "execution_count": null,
      "outputs": [
        {
          "output_type": "execute_result",
          "data": {
            "text/plain": [
              "0.36787944117144245"
            ]
          },
          "metadata": {
            "tags": []
          },
          "execution_count": 104
        }
      ]
    },
    {
      "cell_type": "markdown",
      "metadata": {
        "id": "4IQuZPvUsrXF"
      },
      "source": [
        "- It is known that \n",
        "$$\n",
        "\\sum_{k=1}^\\infty \\dfrac{k}{2^{k}} = 2.\n",
        "$$\n",
        "Calculate the sum\n",
        "$$\n",
        "S_n = \\sum_{k=1}^n \\dfrac{k}{2^{k}}\n",
        "$$\n",
        "with minimum $n$ satisfying\n",
        "$$\n",
        "|S_n - 2|\\le 0.001.\n",
        "$$"
      ]
    },
    {
      "cell_type": "code",
      "metadata": {
        "colab": {
          "base_uri": "https://localhost:8080/"
        },
        "id": "wZIIAXP9qJg1",
        "outputId": "e129ffee-9c8a-48b4-da52-1051e1e1a94e"
      },
      "source": [
        "s2=0\r\n",
        "for k in range(1,100000):\r\n",
        "  s2=s2+(k/2**k)\r\n",
        "  if abs(s2-2)<=0.001:\r\n",
        "    break\r\n",
        "s2   "
      ],
      "execution_count": null,
      "outputs": [
        {
          "output_type": "execute_result",
          "data": {
            "text/plain": [
              "1.9990234375"
            ]
          },
          "metadata": {
            "tags": []
          },
          "execution_count": 115
        }
      ]
    },
    {
      "cell_type": "markdown",
      "metadata": {
        "id": "Utfma0kksrXJ"
      },
      "source": [
        "- Given a list of real numbers, find the maximum element of that list, without using any built-in Python `max` function"
      ]
    },
    {
      "cell_type": "code",
      "metadata": {
        "colab": {
          "base_uri": "https://localhost:8080/"
        },
        "id": "1YiwwCu5sxBu",
        "outputId": "982520af-a09e-41be-b4b7-49d9b094d034"
      },
      "source": [
        "list=[12, -1, 36.4, -2.4, 11.11, 8., -64, 74.24, 3]\r\n",
        "max=list[0]\r\n",
        "for x in list:\r\n",
        "  if x>max:\r\n",
        "    max=x\r\n",
        "max    "
      ],
      "execution_count": null,
      "outputs": [
        {
          "output_type": "execute_result",
          "data": {
            "text/plain": [
              "74.24"
            ]
          },
          "metadata": {
            "tags": []
          },
          "execution_count": 141
        }
      ]
    },
    {
      "cell_type": "markdown",
      "metadata": {
        "id": "In0Mn9aIsrXK"
      },
      "source": [
        "- Given a list of arbitrary reals, write a sorting algorithm to sort the list in the increasing order, without using the Python built-in sorting algorithms. You can implement `quicksort`, `bubble sort` or any other well-known algorithm, or just write a simple (maybe non-effective) algorithm."
      ]
    },
    {
      "cell_type": "code",
      "metadata": {
        "colab": {
          "base_uri": "https://localhost:8080/"
        },
        "id": "pJ0m8j8SwAKR",
        "outputId": "4736e7cb-f73a-4faf-83be-52efa7b7abf6"
      },
      "source": [
        "n=len(list)\r\n",
        "for i in range(n-1):\r\n",
        "  for j in range(0, n-i-1):\r\n",
        "    if list[j]>list[j+1]:\r\n",
        "      list[j], list[j+1] = list[j+1], list[j]\r\n",
        "list    \r\n",
        "    "
      ],
      "execution_count": null,
      "outputs": [
        {
          "output_type": "execute_result",
          "data": {
            "text/plain": [
              "[-64, -2.4, -1, 3, 8.0, 11.11, 12, 36.4, 74.24]"
            ]
          },
          "metadata": {
            "tags": []
          },
          "execution_count": 146
        }
      ]
    },
    {
      "cell_type": "markdown",
      "metadata": {
        "id": "kUrDLswAsrXK"
      },
      "source": [
        "### **Problem 3**, Functions"
      ]
    },
    {
      "cell_type": "markdown",
      "metadata": {
        "id": "KI6KJ8g5srXL"
      },
      "source": [
        "- Define the following function in Python:\n",
        "$$\n",
        "f(x) = \\left\\{\n",
        "\\begin{array}{ll}\n",
        "-1, & x <0\\\\\n",
        "4, & 0\\le x\\le 5\\\\\n",
        "9, & x>5\n",
        "\\end{array}\n",
        "\\right.\n",
        "$$\n",
        "and calculate its value at $-4, 3$ and $7$."
      ]
    },
    {
      "cell_type": "code",
      "metadata": {
        "colab": {
          "base_uri": "https://localhost:8080/"
        },
        "id": "pj_IPI9k0TfI",
        "outputId": "0bb46a62-59e1-40f6-be7a-5c5b6f575a0b"
      },
      "source": [
        "def f(x):\r\n",
        "  if x<0:\r\n",
        "    return -1\r\n",
        "  elif x in range(0,6):\r\n",
        "    return 4 \r\n",
        "  else:\r\n",
        "    return 9  \r\n",
        "f(-4), f(3), f(7)"
      ],
      "execution_count": null,
      "outputs": [
        {
          "output_type": "execute_result",
          "data": {
            "text/plain": [
              "(-1, 4, 9)"
            ]
          },
          "metadata": {
            "tags": []
          },
          "execution_count": 9
        }
      ]
    },
    {
      "cell_type": "markdown",
      "metadata": {
        "id": "cqNw4fYPsrXM"
      },
      "source": [
        "- Define the following function in Python:\n",
        "$$\n",
        "f(x) = \\left\\{\n",
        "\\begin{array}{ll}\n",
        "1, & x <0\\ or \\ x> 10\\\\\n",
        "0, & 0\\le x\\le 10\\\\\n",
        "\\end{array}\n",
        "\\right.\n",
        "$$\n",
        "and calculate its value at $-4, 0$ and $17$."
      ]
    },
    {
      "cell_type": "code",
      "metadata": {
        "colab": {
          "base_uri": "https://localhost:8080/"
        },
        "id": "Tw4tr8ee2_Y_",
        "outputId": "6a60b5c4-ea0c-436a-ad35-22667571bacd"
      },
      "source": [
        "def f1(x):\r\n",
        "  if x<0 or x>10:\r\n",
        "    return 1\r\n",
        "  elif x in range(0,11):\r\n",
        "    return 0\r\n",
        "f1(-4), f1(0), f1(17)"
      ],
      "execution_count": null,
      "outputs": [
        {
          "output_type": "execute_result",
          "data": {
            "text/plain": [
              "(1, 0, 1)"
            ]
          },
          "metadata": {
            "tags": []
          },
          "execution_count": 13
        }
      ]
    },
    {
      "cell_type": "markdown",
      "metadata": {
        "id": "Kt1022bOsrXM"
      },
      "source": [
        "- Implement the `Bisection Algorithm` to find the positive root of $f(x) = x^2-2$."
      ]
    },
    {
      "cell_type": "code",
      "metadata": {
        "colab": {
          "base_uri": "https://localhost:8080/"
        },
        "id": "wrto217K5lcj",
        "outputId": "341128dc-a4c1-4e57-a099-cdaa1fe0705d"
      },
      "source": [
        "def bisection(f, a, b, n):\r\n",
        "  if f(a)*f(b)<0:\r\n",
        "    for N in range(1, n+1):\r\n",
        "      m=(a+b)/2\r\n",
        "      if f(a)*f(m)<0:\r\n",
        "        a=a\r\n",
        "        b=m\r\n",
        "      elif f(b)*f(m)<0:\r\n",
        "        a=m\r\n",
        "        b=b\r\n",
        "      elif f(m)==0:\r\n",
        "        return m\r\n",
        "  return (a+b)/2\r\n",
        "\r\n",
        "f=lambda x: x**2-2\r\n",
        "bisection (f, 0, 10, 100000)        "
      ],
      "execution_count": null,
      "outputs": [
        {
          "output_type": "execute_result",
          "data": {
            "text/plain": [
              "1.414213562373095"
            ]
          },
          "metadata": {
            "tags": []
          },
          "execution_count": 25
        }
      ]
    },
    {
      "cell_type": "markdown",
      "metadata": {
        "id": "YcsthGlCsrXN"
      },
      "source": [
        "- Write a function of natural variable $n$ that will return the $n$-the Fibonacci number (see [Wiki](https://en.wikipedia.org/wiki/Fibonacci_number))."
      ]
    },
    {
      "cell_type": "code",
      "metadata": {
        "colab": {
          "base_uri": "https://localhost:8080/"
        },
        "id": "Wd_mlUEE-T6t",
        "outputId": "7d31b778-67e8-4500-a386-6542e252156e"
      },
      "source": [
        "def fib(n):\r\n",
        "  a=0\r\n",
        "  b=1\r\n",
        "  if n==1:\r\n",
        "    print(a)\r\n",
        "  for i in range(2,n):\r\n",
        "    c=a+b\r\n",
        "    a=b\r\n",
        "    b=c\r\n",
        "  return c\r\n",
        "fib(7)"
      ],
      "execution_count": null,
      "outputs": [
        {
          "output_type": "execute_result",
          "data": {
            "text/plain": [
              "8"
            ]
          },
          "metadata": {
            "tags": []
          },
          "execution_count": 41
        }
      ]
    },
    {
      "cell_type": "markdown",
      "metadata": {
        "id": "iEJDlu2MsrXN"
      },
      "source": [
        "- Write a function `BinomCoeff` that will return, for any integer $n\\ge 0$, the Binomial Coeffieints of the expansion of $(a+b)^n$. For example, for $n=2$, we need to have the following triple:\n",
        "$$\n",
        "1, 2, 1,\n",
        "$$\n",
        "which are the coefficients of \n",
        "$$\n",
        "(a+b)^2 = 1\\cdot a^2 + 2\\cdot ab + 1\\cdot b^2.\n",
        "$$\n",
        "For $n=3$, we need to have\n",
        "$$\n",
        "1,3,3,1.\n",
        "$$"
      ]
    },
    {
      "cell_type": "code",
      "metadata": {
        "colab": {
          "base_uri": "https://localhost:8080/"
        },
        "id": "SIw3ilsiKh44",
        "outputId": "cd12cba1-9010-4600-f03a-d9bfcecc62b8"
      },
      "source": [
        "def f(x):\r\n",
        "  fact=1\r\n",
        "  for i in range(1, x+1):\r\n",
        "    fact=fact*i\r\n",
        "  return fact  \r\n",
        "\r\n",
        "n=4\r\n",
        "for k in range(0, n+1):\r\n",
        "  print(f(n)//(f(k)*f(n-k)), end=\" \")\r\n",
        " "
      ],
      "execution_count": null,
      "outputs": [
        {
          "output_type": "stream",
          "text": [
            "1 4 6 4 1 "
          ],
          "name": "stdout"
        }
      ]
    }
  ]
}